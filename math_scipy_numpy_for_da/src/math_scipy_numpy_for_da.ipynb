{
 "cells": [
  {
   "cell_type": "code",
   "execution_count": 20,
   "id": "c6218580",
   "metadata": {
    "ExecuteTime": {
     "end_time": "2023-06-01T09:07:11.153562634Z",
     "start_time": "2023-06-01T09:07:11.135080646Z"
    }
   },
   "outputs": [],
   "source": [
    "import pandas as pd\n",
    "import numpy as np\n",
    "import matplotlib.pyplot as plt\n",
    "import math\n",
    "import scipy\n",
    "import scipy.stats as stats"
   ]
  },
  {
   "cell_type": "markdown",
   "id": "36db3dda",
   "metadata": {},
   "source": [
    "# Task 1"
   ]
  },
  {
   "cell_type": "markdown",
   "id": "6476161a",
   "metadata": {},
   "source": [
    "Дан массив. Необходимо создать новый массив, состоящий из элементов массива arr, которые больше среднего значения элементов массива arr."
   ]
  },
  {
   "cell_type": "code",
   "execution_count": 2,
   "id": "5b2aecc4",
   "metadata": {
    "ExecuteTime": {
     "end_time": "2023-06-01T08:34:02.240302363Z",
     "start_time": "2023-06-01T08:34:02.208847059Z"
    }
   },
   "outputs": [],
   "source": [
    "arr = np.array([134, 70, 85, 43, 14, 1000, 23, 75])"
   ]
  },
  {
   "cell_type": "code",
   "execution_count": 5,
   "id": "7abfd215",
   "metadata": {
    "ExecuteTime": {
     "end_time": "2023-06-01T08:34:28.842806428Z",
     "start_time": "2023-06-01T08:34:28.760829399Z"
    }
   },
   "outputs": [
    {
     "data": {
      "text/plain": "array([1000])"
     },
     "execution_count": 5,
     "metadata": {},
     "output_type": "execute_result"
    }
   ],
   "source": [
    "arr_new = np.array([i for i in arr if i > np.mean(arr)])\n",
    "arr_new"
   ]
  },
  {
   "cell_type": "markdown",
   "id": "bf171992",
   "metadata": {},
   "source": [
    "# Task 2"
   ]
  },
  {
   "cell_type": "markdown",
   "id": "f9e6cb81",
   "metadata": {},
   "source": [
    "Заполни пропуски в коде и реши задачу:"
   ]
  },
  {
   "cell_type": "markdown",
   "id": "9d8efcf5",
   "metadata": {},
   "source": [
    "Исследователь хочет проверить, есть ли связь между количеством часов, проведенных за компьютером, и уровнем зрения у подростков. Для этого он собрал данные о 100 подростках, измерив количество часов, проведенных за компьютером, и уровень зрения каждого из них. Корреляция между этими двумя переменными составила 0.3. Необходимо проверить, является ли эта связь статистически значимой."
   ]
  },
  {
   "cell_type": "markdown",
   "id": "336e9666",
   "metadata": {},
   "source": [
    "Шаг 1: Формулируем нулевую и альтернативную гипотезы:\n",
    "\n",
    "H0: Нет статистически значимой связи между количеством часов за компуктером и уровнем зрения у подростков\n",
    "\n",
    "H1: Существует статстически значимая связь между количеством часов за компуктером и уровнем зрения у подростков."
   ]
  },
  {
   "cell_type": "markdown",
   "id": "cc5cf01e",
   "metadata": {},
   "source": [
    "Шаг 2: Вычисляем коэффициент корреляции Пирсона (есть в условии задачи):"
   ]
  },
  {
   "cell_type": "code",
   "execution_count": 8,
   "id": "25892e15",
   "metadata": {
    "ExecuteTime": {
     "end_time": "2023-06-01T08:48:36.584879374Z",
     "start_time": "2023-06-01T08:48:36.484260626Z"
    }
   },
   "outputs": [],
   "source": [
    "r = 0.3"
   ]
  },
  {
   "cell_type": "markdown",
   "id": "0b620415",
   "metadata": {},
   "source": [
    "Шаг 3: Определяем степень свободы (ориентируйся на количество измерений):"
   ]
  },
  {
   "cell_type": "code",
   "execution_count": 9,
   "id": "cf566db3",
   "metadata": {
    "ExecuteTime": {
     "end_time": "2023-06-01T08:48:39.416753711Z",
     "start_time": "2023-06-01T08:48:39.391839445Z"
    }
   },
   "outputs": [],
   "source": [
    "df = 100"
   ]
  },
  {
   "cell_type": "markdown",
   "id": "c83539f5",
   "metadata": {},
   "source": [
    "Шаг 4: Находим критическое значение t_crit для уровня значимости α = 0.05 и степеней свободы df, найденных на предыдущем шаге:"
   ]
  },
  {
   "cell_type": "code",
   "execution_count": 21,
   "id": "3584a5fe",
   "metadata": {
    "ExecuteTime": {
     "end_time": "2023-06-01T09:07:15.442854974Z",
     "start_time": "2023-06-01T09:07:15.404623749Z"
    }
   },
   "outputs": [
    {
     "data": {
      "text/plain": "1.9839715184496334"
     },
     "execution_count": 21,
     "metadata": {},
     "output_type": "execute_result"
    }
   ],
   "source": [
    "t_crit = stats.t.ppf(1 - 0.05/2, df)\n",
    "t_crit"
   ]
  },
  {
   "cell_type": "markdown",
   "id": "d2cdd878",
   "metadata": {},
   "source": [
    "Шаг 5: Вычисляем статистическую значимость корреляции по формуле [![\\\\  t = r*\\sqrt{\\frac{df}{1-{r^{2}}}}](https://latex.codecogs.com/svg.latex?%5C%5C%20%20t%20%3D%20r*%5Csqrt%7B%5Cfrac%7Bdf%7D%7B1-%7Br%5E%7B2%7D%7D%7D%7D)](#_)"
   ]
  },
  {
   "cell_type": "code",
   "execution_count": 22,
   "id": "2e5d13c8",
   "metadata": {
    "ExecuteTime": {
     "end_time": "2023-06-01T09:20:18.252804091Z",
     "start_time": "2023-06-01T09:20:18.243019466Z"
    }
   },
   "outputs": [
    {
     "data": {
      "text/plain": "3.1448545101657546"
     },
     "execution_count": 22,
     "metadata": {},
     "output_type": "execute_result"
    }
   ],
   "source": [
    "t = r * math.sqrt(df/(1-r**2))\n",
    "t"
   ]
  },
  {
   "cell_type": "markdown",
   "id": "d8b7a28f",
   "metadata": {},
   "source": [
    "Шаг 6: Сравниваем полученное значение t с критическим значением tкрит, |t| > tкрит:"
   ]
  },
  {
   "cell_type": "code",
   "execution_count": 23,
   "id": "2402fbc0",
   "metadata": {
    "ExecuteTime": {
     "end_time": "2023-06-01T09:24:40.573084895Z",
     "start_time": "2023-06-01T09:24:40.477560158Z"
    }
   },
   "outputs": [
    {
     "name": "stdout",
     "output_type": "stream",
     "text": [
      "Существует статстически значимая связь между количеством часов за компуктером и уровнем зрения у подростков\n"
     ]
    }
   ],
   "source": [
    "if abs(t) > t_crit:\n",
    "    print('Существует статстически значимая связь между количеством часов за компуктером и уровнем зрения у подростков')\n",
    "else:\n",
    "    print('Нет статистически значимой связи между количеством часов за компуктером и уровнем зрения у подростков')"
   ]
  },
  {
   "cell_type": "markdown",
   "id": "461208f2",
   "metadata": {},
   "source": [
    "Шаг 7: Делаем выводы:"
   ]
  },
  {
   "cell_type": "raw",
   "source": [
    "Связь есть,а это значит, что детеныши должны аккуратнее относиться к своему здоровью. Попросить у родителей специальные очки для компуктера, делать гимнастику глаз, кушать морковку и чернику, поменьше уделять время на компуктер."
   ],
   "metadata": {
    "collapsed": false
   }
  },
  {
   "cell_type": "markdown",
   "id": "c22ab7d9",
   "metadata": {},
   "source": [
    "# Task 3"
   ]
  },
  {
   "cell_type": "markdown",
   "id": "e3eec6e3",
   "metadata": {},
   "source": [
    "Отдел маркетинга хочет расширить бюджет закупки рекламы у блогеров и собрал некоторое количество коммерческих предложений. Так как конкретный регламент или стандарт на ценообразование отсутствует, нам необходимо определить, какие из предложений находятся в среднем ценовом диапазоне, а какие сильно завышены или занижены. \n",
    "\n",
    "Порядок решения:\n",
    "- визуализировать респределение с ценами в виде boxplot\n",
    "- рассчитать интервартильный размах iqr\n",
    "- вывести точки, которые выходят за диапазон ±iqr"
   ]
  },
  {
   "cell_type": "code",
   "execution_count": 25,
   "id": "e9e4ee61",
   "metadata": {
    "ExecuteTime": {
     "end_time": "2023-06-01T10:09:07.516167816Z",
     "start_time": "2023-06-01T10:09:07.489038515Z"
    }
   },
   "outputs": [],
   "source": [
    "prices = np.array([100000, 120000, 500000, 130000, 140000, 150000, 400000, \n",
    "                        160000, 170000, 180000, 190000, 200000, 300000, 600000])"
   ]
  },
  {
   "cell_type": "code",
   "execution_count": 27,
   "id": "006ca501",
   "metadata": {
    "ExecuteTime": {
     "end_time": "2023-06-01T10:09:19.877076284Z",
     "start_time": "2023-06-01T10:09:19.757328783Z"
    }
   },
   "outputs": [
    {
     "data": {
      "text/plain": "<Figure size 360x360 with 1 Axes>",
      "image/png": "[encoded data removed]"
     },
     "metadata": {
      "needs_background": "light"
     },
     "output_type": "display_data"
    }
   ],
   "source": [
    "#Визуализация через boxplot\n",
    "plt.figure(figsize=(5,5))\n",
    "plt.boxplot(prices)\n",
    "plt.show()"
   ]
  },
  {
   "cell_type": "code",
   "execution_count": 29,
   "outputs": [
    {
     "data": {
      "text/plain": "132500.0"
     },
     "execution_count": 29,
     "metadata": {},
     "output_type": "execute_result"
    }
   ],
   "source": [
    "# Интерватильный размах\n",
    "from scipy.stats import iqr\n",
    "iqr_value = iqr(prices)\n",
    "iqr_value"
   ],
   "metadata": {
    "collapsed": false,
    "ExecuteTime": {
     "end_time": "2023-06-01T10:58:15.214629698Z",
     "start_time": "2023-06-01T10:58:15.197252539Z"
    }
   }
  },
  {
   "cell_type": "code",
   "execution_count": 31,
   "outputs": [
    {
     "data": {
      "text/plain": "[500000, 600000]"
     },
     "execution_count": 31,
     "metadata": {},
     "output_type": "execute_result"
    }
   ],
   "source": [
    "#Вывод точек, которые выходят за диапазон iqr\n",
    "down_line = np.percentile(prices, 25) - 1.5 * iqr_value\n",
    "up_line = np.percentile(prices, 75) + 1.5 * iqr_value\n",
    "\n",
    "leave_iqr = [price for price in prices if price < down_line or price > up_line]\n",
    "leave_iqr"
   ],
   "metadata": {
    "collapsed": false,
    "ExecuteTime": {
     "end_time": "2023-06-01T11:13:56.620873509Z",
     "start_time": "2023-06-01T11:13:56.610769200Z"
    }
   }
  },
  {
   "cell_type": "markdown",
   "id": "2e1d4280",
   "metadata": {},
   "source": [
    "# Task 4"
   ]
  },
  {
   "cell_type": "markdown",
   "id": "d0395a68",
   "metadata": {},
   "source": [
    "Имеется датасет, в котором собраны антропометрические измерения для 716 респондентов разного пола и возраста. Мы хотим использовать его, чтобы составить размерную сетку для производства детской хоккейной формы. Но не можем определиться, стоит ли делать лекала отдельно для девочек и мальчиков. Для этого необходимо вычислить доверительные интервалы на 4 основных измерения и выяснить, есть ли между ними стат. значимые. различия. Если хотя бы для одного из измерений будут значимые различия - отдаем в разработку 2 вида лекал. \n",
    "\n",
    "Порядок решения:\n",
    "\n",
    "- выделить из датасета группу респондентов в возрасте 10-12 лет;\n",
    "- поделить на девочек и мальчиков (Male = 1, Female = 2);\n",
    "- перевести измерения ['TotalHeight', 'ShoulderWidth', 'Waist', 'Hips'] в сантиметры;\n",
    "- построить гистограммы распределений для всех 4 измерений в сетке 2х2, на каждом графике должны быть отображены и мальчики, и девочки;\n",
    "- вычислить и вывести 95% доверительный интервал для каждого из измерений;\n",
    "- вычислить и вывести значение p-value для каждого из измерений;\n",
    "- записать общий вывод: нужно ли разрабатывать отдельные лекала?"
   ]
  },
  {
   "cell_type": "code",
   "execution_count": 32,
   "id": "b2b27359",
   "metadata": {
    "ExecuteTime": {
     "end_time": "2023-06-01T11:17:17.927729702Z",
     "start_time": "2023-06-01T11:17:17.884444065Z"
    }
   },
   "outputs": [],
   "source": [
    "data = pd.read_csv('../datasets/project13_body_measurements.csv')"
   ]
  },
  {
   "cell_type": "code",
   "execution_count": 42,
   "id": "0ffb4ffa",
   "metadata": {
    "ExecuteTime": {
     "end_time": "2023-06-01T12:02:40.279301464Z",
     "start_time": "2023-06-01T12:02:39.474612296Z"
    }
   },
   "outputs": [
    {
     "name": "stderr",
     "output_type": "stream",
     "text": [
      "/tmp/ipykernel_106276/3770687608.py:5: SettingWithCopyWarning: \n",
      "A value is trying to be set on a copy of a slice from a DataFrame.\n",
      "Try using .loc[row_indexer,col_indexer] = value instead\n",
      "\n",
      "See the caveats in the documentation: https://pandas.pydata.org/pandas-docs/stable/user_guide/indexing.html#returning-a-view-versus-a-copy\n",
      "  age['TotalHeight'] = age['TotalHeight'] *2.54\n",
      "/tmp/ipykernel_106276/3770687608.py:6: SettingWithCopyWarning: \n",
      "A value is trying to be set on a copy of a slice from a DataFrame.\n",
      "Try using .loc[row_indexer,col_indexer] = value instead\n",
      "\n",
      "See the caveats in the documentation: https://pandas.pydata.org/pandas-docs/stable/user_guide/indexing.html#returning-a-view-versus-a-copy\n",
      "  age['ShoulderWidth'] = age['ShoulderWidth'] *2.54\n",
      "/tmp/ipykernel_106276/3770687608.py:7: SettingWithCopyWarning: \n",
      "A value is trying to be set on a copy of a slice from a DataFrame.\n",
      "Try using .loc[row_indexer,col_indexer] = value instead\n",
      "\n",
      "See the caveats in the documentation: https://pandas.pydata.org/pandas-docs/stable/user_guide/indexing.html#returning-a-view-versus-a-copy\n",
      "  age['Waist '] = age['Waist '] *2.54\n",
      "/tmp/ipykernel_106276/3770687608.py:8: SettingWithCopyWarning: \n",
      "A value is trying to be set on a copy of a slice from a DataFrame.\n",
      "Try using .loc[row_indexer,col_indexer] = value instead\n",
      "\n",
      "See the caveats in the documentation: https://pandas.pydata.org/pandas-docs/stable/user_guide/indexing.html#returning-a-view-versus-a-copy\n",
      "  age['Hips '] = age['Hips '] *2.54\n"
     ]
    },
    {
     "data": {
      "text/plain": "<Figure size 720x576 with 4 Axes>",
      "image/png": "[encoded data removed]"
     },
     "metadata": {
      "needs_background": "light"
     },
     "output_type": "display_data"
    }
   ],
   "source": [
    "#Выделить из датасета группу респондентов в возрасте 10-12 лет;\n",
    "age = data[(data['Age'] >= 10) & (data['Age'] <= 12)]\n",
    "#поделить на девочек и мальчиков (Male = 1, Female = 2); Как я вижу, тут уже поделено\n",
    "#перевести измерения ['TotalHeight', 'ShoulderWidth', 'Waist', 'Hips'] в сантиметры; Предполагаю, что тут дюймы\n",
    "age['TotalHeight'] = age['TotalHeight'] *2.54\n",
    "age['ShoulderWidth'] = age['ShoulderWidth'] *2.54\n",
    "age['Waist '] = age['Waist '] *2.54\n",
    "age['Hips '] = age['Hips '] *2.54\n",
    "# построить гистограммы распределений для всех 4 измерений в сетке 2х2, на каждом графике должны быть отображены и мальчики, и девочки;\n",
    "fig, axes = plt.subplots(2, 2, figsize = (10, 8))\n",
    "\n",
    "axes[0,0].hist(age['TotalHeight'][age['Gender'] == 1], bins=10, alpha = 0.5, label= \"Male\")\n",
    "axes[0,0].hist(age['TotalHeight'][age['Gender'] == 2], bins=10, alpha = 0.5, label= \"Female\")\n",
    "axes[0,0].set_title('TotalHeight')\n",
    "axes[0,0].legend()\n",
    "\n",
    "axes[0,1].hist(age['ShoulderWidth'][age['Gender'] == 1], bins=10, alpha = 0.5, label= \"Male\")\n",
    "axes[0,1].hist(age['ShoulderWidth'][age['Gender'] == 2], bins=10, alpha = 0.5, label= \"Female\")\n",
    "axes[0,1].set_title('ShoulderWidth')\n",
    "axes[0,1].legend()\n",
    "\n",
    "axes[1,0].hist(age['Waist '][age['Gender'] == 1], bins=10, alpha = 0.5, label= \"Male\")\n",
    "axes[1,0].hist(age['Waist '][age['Gender'] == 2], bins=10, alpha = 0.5, label= \"Female\")\n",
    "axes[1,0].set_title('Waist ')\n",
    "axes[1,0].legend()\n",
    "\n",
    "axes[1,1].hist(age['Hips '][age['Gender'] == 1], bins=10, alpha = 0.5, label= \"Male\")\n",
    "axes[1,1].hist(age['Hips '][age['Gender'] == 2], bins=10, alpha = 0.5, label= \"Female\")\n",
    "axes[1,1].set_title('Hips ')\n",
    "axes[1,1].legend()\n",
    "\n",
    "plt.tight_layout()\n",
    "plt.show()\n"
   ]
  },
  {
   "cell_type": "code",
   "execution_count": 48,
   "outputs": [
    {
     "name": "stdout",
     "output_type": "stream",
     "text": [
      "Доверительный интервал для TotalHeight\n",
      " Мальчики: (117.73963105153288, 129.8633319114301) \n",
      " Девочки: (122.95299570187672, 130.64382969494872) \n",
      " P-value для  TotalHeight : 0.3956943477471464 \n",
      " Нет статистически значимые различия \n",
      "\n",
      "Доверительный интервал для ShoulderWidth\n",
      " Мальчики: (32.93020001241473, 36.02609628388157) \n",
      " Девочки: (31.79736975070107, 34.000725487394156) \n",
      " P-value для  ShoulderWidth : 0.09501011387699174 \n",
      " Нет статистически значимые различия \n",
      "\n",
      "Доверительный интервал для Waist \n",
      " Мальчики: (41.23078011730929, 51.33810877157959) \n",
      " Девочки: (46.801328133172504, 55.04057662873227) \n",
      " P-value для  Waist  : 0.1566871504607796 \n",
      " Нет статистически значимые различия \n",
      "\n",
      "Доверительный интервал для Hips \n",
      " Мальчики: (41.59055630942724, 50.978332579461636) \n",
      " Девочки: (46.04320448971367, 55.15362090711173) \n",
      " P-value для  Hips  : 0.19473597212002536 \n",
      " Нет статистически значимые различия \n",
      "\n"
     ]
    },
    {
     "name": "stderr",
     "output_type": "stream",
     "text": [
      "/tmp/ipykernel_106276/2448311561.py:4: UserWarning: Boolean Series key will be reindexed to match DataFrame index.\n",
      "  male = age[data['Gender'] == 1][part]\n",
      "/tmp/ipykernel_106276/2448311561.py:5: UserWarning: Boolean Series key will be reindexed to match DataFrame index.\n",
      "  female = age[data['Gender'] == 2][part]\n"
     ]
    }
   ],
   "source": [
    "# вычислить и вывести 95% доверительный интервал для каждого из измерений;\n",
    "parts = ['TotalHeight', 'ShoulderWidth', 'Waist ', 'Hips ']\n",
    "for part in parts:\n",
    "    male = age[data['Gender'] == 1][part]\n",
    "    female = age[data['Gender'] == 2][part]\n",
    "\n",
    "    male_mean = np.mean(male)\n",
    "    female_mean = np.mean(female)\n",
    "\n",
    "    male_std = np.std(male)\n",
    "    female_std = np.std(female)\n",
    "\n",
    "    male_n = len(male)\n",
    "    female_n = len(female)\n",
    "        #Стандартная ошибка среднего\n",
    "    male_se =  male_std / np.sqrt(male_n)\n",
    "    female_se =  female_std / np.sqrt(female_n)\n",
    "\n",
    "#     Доверительный интервал\n",
    "    male_ci = stats.t.interval(0.95, df=male_n - 1, loc = male_mean, scale= male_se)\n",
    "    female_ci = stats.t.interval(0.95, df=female_n - 1, loc = female_mean, scale= female_se)\n",
    "    #  p_val\n",
    "    t_stat, p_val = stats.ttest_ind(male, female)\n",
    "\n",
    "    print(f\"Доверительный интервал для {part}\\n Мальчики: ({male_ci[0]}, {male_ci[1]}) \\n Девочки: ({female_ci[0]}, {female_ci[1]}) \\n P-value для  {part} : {p_val} \\n {'Есть' if p_val < 0.05 else 'Нет'} статистически значимые различия \\n\")"
   ],
   "metadata": {
    "collapsed": false,
    "ExecuteTime": {
     "end_time": "2023-06-01T12:48:18.690632897Z",
     "start_time": "2023-06-01T12:48:18.660476930Z"
    }
   }
  },
  {
   "cell_type": "markdown",
   "source": [
    "Лекала не делаем! Галя, отмена!"
   ],
   "metadata": {
    "collapsed": false
   }
  },
  {
   "cell_type": "markdown",
   "id": "7ae0e0ed",
   "metadata": {},
   "source": [
    "# Дополнительное задание* "
   ]
  },
  {
   "cell_type": "markdown",
   "id": "41a26f28",
   "metadata": {},
   "source": [
    "Одним из популярных инструментов монетизации мобильных игр является реклама, за просмотр которой можно получить бонусы в игре, либо, как правило, заплатить за ее отключение. На каких уровнях расставлять рекламные интеграции и какие отдавать бонусы можно выяснить при помощи А/Б тестирования: выбрать контрольную и тестовую группы и провести на них эксперимент - одним показать рекламный ролик на 10 уровне, другим - на 25. \n",
    "\n",
    "Результаты подобного А/Б теста находятся в датасете к этой задаче. В нем содержатся: ID пользователя, его текущий уровень, показатели retention 7 дня и принадлежность той или иной группе. Необходимо проверить, отличаются ли значения retention 7 для этих двух групп. На каком уровне стоит показывать рекламную интеграцию?\n",
    "\n",
    "Для решения данной задачи необходимо использовать метод bootstrap (\"бутстреп\") -  практический метод исследования распределений, основанный на многократной генерации выборок на базе имеющейся выборки.\n",
    "\n",
    "**В ходе исследования необходимо:**\n",
    "- построить boxplot, проверить выборку на аномалии и очистить;\n",
    "- поделить выборку на группы и построить распределения игроков по уровням;\n",
    "- сравнить среднее и медианное значение уровней;\n",
    "- вычислить ret_7 для каждой из групп;\n",
    "- сгенерировать новый датасет, который будут состоять из выборочных средних (см. описание ниже);\n",
    "- вычислить среднее и 95% доверительный интервал для каждой из групп;\n",
    "- нарисовать график плотности распределения средних, на котором будут отображены обе группы, их средние и доверительные интервалы;\n",
    "- проверить перекрытие доверительных интервалов и сделать вывод о стат.значимости различий;\n",
    "- сформулировать вывод, на каком уровне лучше показывать рекламу (метрика выше).\n",
    "\n",
    "--\n",
    "\n",
    "Как создать датасет с выборочными средними методом bootstrap:\n",
    "1. создаем список res, в который мы будем собирать выборочные средние;\n",
    "2. создаем новый датасет из случайных элементов: \n",
    "    - выбираем наугад одно наблюдение из имеющихся;\n",
    "    - повторяем выбор столько раз, сколько у нас есть наблюдений (при этом некоторые из них мы выберем несколько раз, некотороые не выберем вообще — это нормально);\n",
    "    - для этого можно использовать конструкцию ddf = df.sample(frac = 1, replace = True), где frac = 1 как раз означает столько раз повторять выбор, сколько есть наблюдений;\n",
    "3. вычисляем среднее значение ddf.groupby('group')['ret_7'].mean() и сохраняем его в список с результатами из п.1 res.append();\n",
    "4. повторяем шаги 2-3 в цикле от 500 до 1000 раз (чем больше - тем точнее, но медленнее);\n",
    "5. преобразуем res в pd.DataFrame()"
   ]
  },
  {
   "cell_type": "code",
   "execution_count": 49,
   "id": "fd12db44",
   "metadata": {
    "ExecuteTime": {
     "end_time": "2023-06-01T14:49:05.804806098Z",
     "start_time": "2023-06-01T14:49:05.637880166Z"
    }
   },
   "outputs": [],
   "source": [
    "data = pd.read_csv('../datasets/project13_mobile_game_ab.csv')"
   ]
  },
  {
   "cell_type": "code",
   "execution_count": 57,
   "outputs": [
    {
     "data": {
      "text/plain": "<Figure size 576x432 with 1 Axes>",
      "image/png": "[encoded data removed]"
     },
     "metadata": {
      "needs_background": "light"
     },
     "output_type": "display_data"
    }
   ],
   "source": [
    "plt.figure(figsize=(8,6))\n",
    "plt.boxplot([data[data['group'] == 'level_10']['rounds_total'], data[data['group'] == 'level_25']['rounds_total']])\n",
    "plt.xticks([1,2],['level_10', 'level_25'])\n",
    "plt.title('распределение')\n",
    "plt.xlabel('lvl')\n",
    "plt.ylabel('rounds_total')\n",
    "plt.show()"
   ],
   "metadata": {
    "collapsed": false,
    "ExecuteTime": {
     "end_time": "2023-06-01T15:15:31.378539907Z",
     "start_time": "2023-06-01T15:15:31.205274606Z"
    }
   }
  },
  {
   "cell_type": "code",
   "execution_count": 79,
   "outputs": [],
   "source": [
    "#Чек на выбросы\n",
    "lvl_10_df = data[data['group'] == 'level_10']['rounds_total']\n",
    "lvl_25_df = data[data['group'] == 'level_25']['rounds_total']\n",
    "\n",
    "lvl_10_df_iqr = stats.iqr(lvl_10_df, scale='normal', nan_policy='omit')\n",
    "lvl_25_df_iqr = stats.iqr(lvl_25_df,scale='normal', nan_policy='omit')"
   ],
   "metadata": {
    "collapsed": false,
    "ExecuteTime": {
     "end_time": "2023-06-02T20:43:51.566411549Z",
     "start_time": "2023-06-02T20:43:51.499320341Z"
    }
   }
  },
  {
   "cell_type": "code",
   "execution_count": 80,
   "outputs": [],
   "source": [
    "#границы выбросов\n",
    "lvl_10_lower_bound = stats.scoreatpercentile(lvl_10_df, 25) - 1.5 * lvl_10_df_iqr\n",
    "lvl_10_upper_bound = stats.scoreatpercentile(lvl_10_df, 75) + 1.5 * lvl_10_df_iqr\n",
    "\n",
    "lvl_25_lower_bound = stats.scoreatpercentile(lvl_25_df, 25) - 1.5 * lvl_10_df_iqr\n",
    "lvl_25_upper_bound = stats.scoreatpercentile(lvl_25_df, 75) + 1.5 * lvl_10_df_iqr\n",
    "\n",
    "lvl_10_df_cleaned = lvl_10_df[(lvl_10_df >= lvl_10_lower_bound) & (lvl_10_df <= lvl_10_upper_bound)]\n",
    "lvl_25_df_cleaned = lvl_25_df[(lvl_25_df >= lvl_25_lower_bound) & (lvl_25_df <= lvl_25_upper_bound)]"
   ],
   "metadata": {
    "collapsed": false,
    "ExecuteTime": {
     "end_time": "2023-06-02T20:43:51.719547254Z",
     "start_time": "2023-06-02T20:43:51.640979345Z"
    }
   }
  },
  {
   "cell_type": "code",
   "execution_count": 84,
   "outputs": [
    {
     "name": "stdout",
     "output_type": "stream",
     "text": [
      "Среднее значение для группы level_10: 52.45626398210291\n",
      " Среднее значение для группы level_25: 51.29877552814966\n",
      " Медиана для группы level_10: 17.0\n",
      " Медиана для группы level_25: 16.0\n",
      "\n"
     ]
    }
   ],
   "source": [
    "#сравнить среднее и медианное значение уровней;\n",
    "\n",
    "lvl_10_mean = data[data['group'] == 'level_10']['rounds_total'].mean()\n",
    "lvl_25_mean = data[data['group'] == 'level_25']['rounds_total'].mean()\n",
    "\n",
    "lvl_10_median = data[data['group'] == 'level_10']['rounds_total'].median()\n",
    "lvl_25_median = data[data['group'] == 'level_25']['rounds_total'].median()\n",
    "\n",
    "print(f\"Среднее значение для группы level_10: {lvl_10_mean}\\n Среднее значение для группы level_25: {lvl_25_mean}\\n Медиана для группы level_10: {lvl_10_median}\\n Медиана для группы level_25: {lvl_25_median}\\n\")"
   ],
   "metadata": {
    "collapsed": false,
    "ExecuteTime": {
     "end_time": "2023-06-02T20:50:12.755416100Z",
     "start_time": "2023-06-02T20:50:12.698069803Z"
    }
   }
  },
  {
   "cell_type": "code",
   "execution_count": 85,
   "outputs": [
    {
     "name": "stdout",
     "output_type": "stream",
     "text": [
      "Среднее значение ret_7 для группы level_10: 0.19020134228187918 \n",
      " Среднее значение ret_7 для группы level_25: 0.18200004396667327\n"
     ]
    }
   ],
   "source": [
    "#- вычислить ret_7 для каждой из групп;\n",
    "ret_7_lvl_10 = data[data['group'] == 'level_10']['ret_7'].mean()\n",
    "ret_7_lvl_25 = data[data['group'] == 'level_25']['ret_7'].mean()\n",
    "\n",
    "print(f\"Среднее значение ret_7 для группы level_10: {ret_7_lvl_10} \\n Среднее значение ret_7 для группы level_25: {ret_7_lvl_25}\")"
   ],
   "metadata": {
    "collapsed": false,
    "ExecuteTime": {
     "end_time": "2023-06-02T20:55:37.771659620Z",
     "start_time": "2023-06-02T20:55:37.651109245Z"
    }
   }
  },
  {
   "cell_type": "code",
   "execution_count": 86,
   "outputs": [],
   "source": [
    "#- сгенерировать новый датасет, который будут состоять из выборочных средних (см. описание ниже); // BOOTSTRAP\n",
    "res = []\n",
    "count_iterations = 1000;\n",
    "for _ in range(count_iterations):\n",
    "    ddf = data.sample(frac = 1, replace = True) # новый датасет путем выбора случайных элементов\n",
    "    means = ddf.groupby('group')['ret_7'].mean() #Среднее ret_7 для каждой группы\n",
    "    res.append(means)\n",
    "bootstrap_df = pd.DataFrame(res)\n",
    "\n"
   ],
   "metadata": {
    "collapsed": false,
    "ExecuteTime": {
     "end_time": "2023-06-02T21:03:34.802180914Z",
     "start_time": "2023-06-02T21:03:20.502732579Z"
    }
   }
  },
  {
   "cell_type": "code",
   "execution_count": 90,
   "outputs": [
    {
     "data": {
      "text/plain": "group  level_10  level_25\nret_7  0.193259  0.179924\nret_7  0.190149  0.182433\nret_7  0.191199  0.186562\nret_7  0.189088  0.182236\nret_7  0.193917  0.180283\n...         ...       ...\nret_7  0.188411  0.180950\nret_7  0.189122  0.181566\nret_7  0.192202  0.182985\nret_7  0.191644  0.182420\nret_7  0.191442  0.186627\n\n[1000 rows x 2 columns]",
      "text/html": "<div>\n<style scoped>\n    .dataframe tbody tr th:only-of-type {\n        vertical-align: middle;\n    }\n\n    .dataframe tbody tr th {\n        vertical-align: top;\n    }\n\n    .dataframe thead th {\n        text-align: right;\n    }\n</style>\n<table border=\"1\" class=\"dataframe\">\n  <thead>\n    <tr style=\"text-align: right;\">\n      <th>group</th>\n      <th>level_10</th>\n      <th>level_25</th>\n    </tr>\n  </thead>\n  <tbody>\n    <tr>\n      <th>ret_7</th>\n      <td>0.193259</td>\n      <td>0.179924</td>\n    </tr>\n    <tr>\n      <th>ret_7</th>\n      <td>0.190149</td>\n      <td>0.182433</td>\n    </tr>\n    <tr>\n      <th>ret_7</th>\n      <td>0.191199</td>\n      <td>0.186562</td>\n    </tr>\n    <tr>\n      <th>ret_7</th>\n      <td>0.189088</td>\n      <td>0.182236</td>\n    </tr>\n    <tr>\n      <th>ret_7</th>\n      <td>0.193917</td>\n      <td>0.180283</td>\n    </tr>\n    <tr>\n      <th>...</th>\n      <td>...</td>\n      <td>...</td>\n    </tr>\n    <tr>\n      <th>ret_7</th>\n      <td>0.188411</td>\n      <td>0.180950</td>\n    </tr>\n    <tr>\n      <th>ret_7</th>\n      <td>0.189122</td>\n      <td>0.181566</td>\n    </tr>\n    <tr>\n      <th>ret_7</th>\n      <td>0.192202</td>\n      <td>0.182985</td>\n    </tr>\n    <tr>\n      <th>ret_7</th>\n      <td>0.191644</td>\n      <td>0.182420</td>\n    </tr>\n    <tr>\n      <th>ret_7</th>\n      <td>0.191442</td>\n      <td>0.186627</td>\n    </tr>\n  </tbody>\n</table>\n<p>1000 rows × 2 columns</p>\n</div>"
     },
     "execution_count": 90,
     "metadata": {},
     "output_type": "execute_result"
    }
   ],
   "source": [
    "bootstrap_df"
   ],
   "metadata": {
    "collapsed": false,
    "ExecuteTime": {
     "end_time": "2023-06-02T21:13:44.556256573Z",
     "start_time": "2023-06-02T21:13:44.540044070Z"
    }
   }
  },
  {
   "cell_type": "code",
   "execution_count": 106,
   "outputs": [
    {
     "name": "stdout",
     "output_type": "stream",
     "text": [
      "Level 10: Mean = 0.19017098477283656 Confidence Interval = (0.19005459826595963, 0.19028737127971349) \n",
      "Level 25: Mean = 0.1819968342622492 Confidence Interval = (0.18188429243635015, 0.18210937608814823)\n"
     ]
    }
   ],
   "source": [
    "# вычислить среднее и 95% доверительный интервал для каждой из групп; // Я так понял по df bootstrap\n",
    "lvl_10_boots_mean = bootstrap_df['level_10'].mean() #Srednee\n",
    "lvl_25_boots_mean = bootstrap_df['level_25'].mean()\n",
    "\n",
    "ci_lvl_10 = stats.t.interval(0.95, len(bootstrap_df['level_10']), loc =lvl_10_boots_mean, scale = stats.sem(bootstrap_df['level_10']) )#Doveritel interval\n",
    "ci_lvl_25 = stats.t.interval(0.95, len(bootstrap_df['level_25']), loc =lvl_25_boots_mean, scale = stats.sem(bootstrap_df['level_25']) )#Doveritel interval\n",
    "\n",
    "print(\"Level 10: Mean =\", lvl_10_boots_mean, \"Confidence Interval =\", ci_lvl_10,\"\\nLevel 25: Mean =\", lvl_25_boots_mean, \"Confidence Interval =\", ci_lvl_25)"
   ],
   "metadata": {
    "collapsed": false,
    "ExecuteTime": {
     "end_time": "2023-06-02T21:34:32.239449133Z",
     "start_time": "2023-06-02T21:34:32.172173518Z"
    }
   }
  },
  {
   "cell_type": "code",
   "execution_count": 108,
   "outputs": [
    {
     "data": {
      "text/plain": "<Figure size 720x432 with 1 Axes>",
      "image/png": "[encoded data removed]"
     },
     "metadata": {
      "needs_background": "light"
     },
     "output_type": "display_data"
    }
   ],
   "source": [
    "#нарисовать график плотности распределения средних, на котором будут отображены обе группы, их средние и доверительные интервалы; // Я так понимаю на основе вышеполученных данных\n",
    "\n",
    "plt.figure(figsize=(10,6))\n",
    "plt.hist(bootstrap_df['level_10'], bins= 30, density=True, alpha=0.5, label='Level 10')\n",
    "plt.hist(bootstrap_df['level_25'], bins= 30, density=True, alpha=0.5, label='Level 25')\n",
    "plt.axvline(lvl_10_boots_mean, color='green', linestyle='--', label='Mean Level 10')\n",
    "plt.axvline(lvl_25_boots_mean, color='red', linestyle='--', label='Mean Level 25')\n",
    "plt.axvspan(ci_lvl_10[0], ci_lvl_10[1], color='green',linestyle=':', alpha=0.2, label='CI Level 10')\n",
    "plt.axvspan(ci_lvl_25[0], ci_lvl_25[1], color='red',linestyle=':', alpha=0.2, label='CI Level 25')\n",
    "plt.xlabel('Retention 7')\n",
    "plt.ylabel('Density')\n",
    "plt.title('Density Plot of Retention 7 for Different Levels')\n",
    "plt.legend()\n",
    "plt.show()"
   ],
   "metadata": {
    "collapsed": false,
    "ExecuteTime": {
     "end_time": "2023-06-02T21:34:46.302363805Z",
     "start_time": "2023-06-02T21:34:45.837017462Z"
    }
   }
  },
  {
   "cell_type": "code",
   "execution_count": 110,
   "outputs": [
    {
     "name": "stdout",
     "output_type": "stream",
     "text": [
      "Доверительные интервалы не перекрываются.\n",
      "Наблюдаются статистически значимые различия между группами.\n"
     ]
    }
   ],
   "source": [
    "#- проверить перекрытие доверительных интервалов и сделать вывод о стат.значимости различий;\n",
    "overlap = (ci_lvl_10[0] <= ci_lvl_25[1]) and (ci_lvl_10[1] >= ci_lvl_25[0])\n",
    "if overlap:\n",
    "    print(\"Доверительные интервалы перекрываются.\\nСтатистически значимых различий между группами нет.\")\n",
    "else:\n",
    "    print(\"Доверительные интервалы не перекрываются.\\nНаблюдаются статистически значимые различия между группами.\")"
   ],
   "metadata": {
    "collapsed": false,
    "ExecuteTime": {
     "end_time": "2023-06-02T21:37:16.491945349Z",
     "start_time": "2023-06-02T21:37:16.486553406Z"
    }
   }
  },
  {
   "cell_type": "markdown",
   "source": [
    "Вывод: Среднее значение retention 7 для группы, на которой реклама была показана на уровне 10, значительно выше, чем для группы, на которой реклама была показана на уровне 25. Следовательно, там эффективнее показывать рекламу!"
   ],
   "metadata": {
    "collapsed": false
   }
  }
 ],
 "metadata": {
  "kernelspec": {
   "display_name": "Python 3 (ipykernel)",
   "language": "python",
   "name": "python3"
  },
  "language_info": {
   "codemirror_mode": {
    "name": "ipython",
    "version": 3
   },
   "file_extension": ".py",
   "mimetype": "text/x-python",
   "name": "python",
   "nbconvert_exporter": "python",
   "pygments_lexer": "ipython3",
   "version": "3.9.13"
  }
 },
 "nbformat": 4,
 "nbformat_minor": 5
}
