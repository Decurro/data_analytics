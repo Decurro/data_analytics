{
 "cells": [
  {
   "cell_type": "code",
   "execution_count": 1,
   "id": "e858dae6",
   "metadata": {
    "ExecuteTime": {
     "end_time": "2023-05-18T12:56:51.719564233Z",
     "start_time": "2023-05-18T12:56:51.401223104Z"
    }
   },
   "outputs": [],
   "source": [
    "import pandas as pd"
   ]
  },
  {
   "cell_type": "code",
   "execution_count": 2,
   "id": "ff99f373",
   "metadata": {
    "ExecuteTime": {
     "end_time": "2023-05-18T12:57:04.811445866Z",
     "start_time": "2023-05-18T12:57:04.705414070Z"
    }
   },
   "outputs": [],
   "source": [
    "#пропиши путь к файлу\n",
    "data = pd.read_csv('../datasets/netflix_titles.csv')"
   ]
  },
  {
   "cell_type": "markdown",
   "id": "5dccfac5",
   "metadata": {},
   "source": [
    "# Task 1"
   ]
  },
  {
   "cell_type": "markdown",
   "id": "e77b6174",
   "metadata": {},
   "source": [
    "Сколько в выборке сериалов?"
   ]
  },
  {
   "cell_type": "code",
   "execution_count": 14,
   "id": "f481d9c4",
   "metadata": {
    "ExecuteTime": {
     "end_time": "2023-05-18T13:06:21.665059193Z",
     "start_time": "2023-05-18T13:06:21.596670655Z"
    }
   },
   "outputs": [
    {
     "data": {
      "text/plain": "2676"
     },
     "execution_count": 14,
     "metadata": {},
     "output_type": "execute_result"
    }
   ],
   "source": [
    "data[ data['type'] == 'TV Show'].shape[0]"
   ]
  },
  {
   "cell_type": "markdown",
   "id": "a5571557",
   "metadata": {},
   "source": [
    "# Task 2"
   ]
  },
  {
   "cell_type": "markdown",
   "id": "4d83b2c4",
   "metadata": {},
   "source": [
    "Используя параметр 'duration' вычисли, сколько сезонов в среднем длится один сериал?\n",
    "\n",
    "Замени пропуски в 'duration' на 1 - хотя бы один уже выпустили :)\n",
    "\n",
    "Округли ответ до целых в большую сторону."
   ]
  },
  {
   "cell_type": "code",
   "execution_count": 61,
   "outputs": [
    {
     "name": "stderr",
     "output_type": "stream",
     "text": [
      "/tmp/ipykernel_124052/1008748013.py:3: SettingWithCopyWarning: \n",
      "A value is trying to be set on a copy of a slice from a DataFrame.\n",
      "Try using .loc[row_indexer,col_indexer] = value instead\n",
      "\n",
      "See the caveats in the documentation: https://pandas.pydata.org/pandas-docs/stable/user_guide/indexing.html#returning-a-view-versus-a-copy\n",
      "  tv_shows['duration'] = tv_shows['duration'].replace({' Seasons':'', ' Season':''}, regex = True).fillna('1').astype('int')\n"
     ]
    },
    {
     "data": {
      "text/plain": "2"
     },
     "execution_count": 61,
     "metadata": {},
     "output_type": "execute_result"
    }
   ],
   "source": [
    "import math\n",
    "tv_shows = data[ data['type'] == 'TV Show']\n",
    "tv_shows['duration'] = tv_shows['duration'].replace({' Seasons':'', ' Season':''}, regex = True).fillna('1').astype('int')\n",
    "math.ceil(tv_shows['duration'].mean())"
   ],
   "metadata": {
    "collapsed": false,
    "ExecuteTime": {
     "end_time": "2023-05-18T14:25:19.271494096Z",
     "start_time": "2023-05-18T14:25:19.234837352Z"
    }
   }
  },
  {
   "cell_type": "markdown",
   "id": "74d940c5",
   "metadata": {},
   "source": [
    "# Task 3"
   ]
  },
  {
   "cell_type": "markdown",
   "id": "38532d32",
   "metadata": {},
   "source": [
    "Собери словарь с классификацией рейтингов на русском языке и замени значения в столбце data['category'], используя метод map(). \n",
    "Для разметки можно использовать [информацию с этой странички](https://www.primevideo.com/help?nodeId=GFGQU3WYEG6FSJFJ).\n",
    "\n",
    "В колонку с рейтингом могли попасть ошибки. Замени в этих строках и в строках с пропусками рейтинг на 'Нет данных'.\n",
    "\n",
    "В какой категории рейтинга больше всего фильмов?"
   ]
  },
  {
   "cell_type": "code",
   "execution_count": 67,
   "outputs": [
    {
     "data": {
      "text/plain": "Взрослые    4086\nName: rating, dtype: int64"
     },
     "execution_count": 67,
     "metadata": {},
     "output_type": "execute_result"
    }
   ],
   "source": [
    "rating_rus = {'TV-MA':'Взрослые','TV-14':'Молодые люди','TV-PG':'Дети старшего возраста','TV-Y7':'Дети','TV-Y':'Дети','TV-G':'Дети','NR':'Взрослые','R':'Взрослые','TV-Y7-FV':'Дети старшего возраста','PG-13':'Подростки'}\n",
    "data['rating'] = data['rating'].map(rating_rus).fillna('Нет данных')\n",
    "data['rating'].value_counts().head(1)"
   ],
   "metadata": {
    "collapsed": false,
    "ExecuteTime": {
     "end_time": "2023-05-18T14:32:19.521812539Z",
     "start_time": "2023-05-18T14:32:19.508519609Z"
    }
   }
  },
  {
   "cell_type": "markdown",
   "id": "1d1c1ff2",
   "metadata": {},
   "source": [
    "# Task 4"
   ]
  },
  {
   "cell_type": "markdown",
   "id": "264d1479",
   "metadata": {},
   "source": [
    "Сколько разных жанров на платформе? Выведи уникальные значения из поля 'listed_in'"
   ]
  },
  {
   "cell_type": "code",
   "execution_count": 75,
   "id": "b207748b",
   "metadata": {
    "ExecuteTime": {
     "end_time": "2023-05-18T14:46:26.203290931Z",
     "start_time": "2023-05-18T14:46:26.149681932Z"
    }
   },
   "outputs": [
    {
     "name": "stdout",
     "output_type": "stream",
     "text": [
      "42\n"
     ]
    }
   ],
   "source": [
    "unique_genres = data['listed_in'].unique()\n",
    "all_genres = set(genre for mix_genres in unique_genres for genre in mix_genres.split(', '))\n",
    "print(len(all_genres))"
   ]
  },
  {
   "cell_type": "markdown",
   "id": "888e6fc9",
   "metadata": {},
   "source": [
    "# Task 5"
   ]
  },
  {
   "cell_type": "markdown",
   "id": "148db8a1",
   "metadata": {},
   "source": [
    "Какой жанр произведений чаще всего выпускали в США за последние 5 лет с 2017 по 2021? \n",
    "\n",
    "Так как Netflix - американский сервис, то все пропуски в поле 'страна' можно заменить на United States и не исключать их из статистики"
   ]
  },
  {
   "cell_type": "code",
   "execution_count": 95,
   "outputs": [
    {
     "name": "stdout",
     "output_type": "stream",
     "text": [
      "International TV Shows 78\n",
      "TV Dramas 59\n",
      "International Movies 58\n",
      "Dramas 57\n",
      "Comedies 47\n",
      "TV Comedies 45\n",
      "TV Action & Adventure 39\n",
      "Crime TV Shows 38\n",
      "Action & Adventure 36\n",
      "Independent Movies 34\n",
      "Children & Family Movies 31\n",
      "Kids' TV 30\n",
      "TV Sci-Fi & Fantasy 27\n",
      "Docuseries 26\n",
      "Romantic Movies 26\n",
      "Reality TV 25\n",
      "TV Horror 25\n",
      "Music & Musicals 25\n",
      "Sci-Fi & Fantasy 24\n",
      "Horror Movies 24\n",
      "Romantic TV Shows 23\n",
      "Thrillers 23\n",
      "Documentaries 22\n",
      "British TV Shows 22\n",
      "TV Mysteries 21\n",
      "Teen TV Shows 20\n",
      "Sports Movies 18\n",
      "LGBTQ Movies 18\n",
      "Spanish-Language TV Shows 17\n",
      "TV Thrillers 17\n",
      "Anime Series 15\n",
      "Science & Nature TV 12\n",
      "Faith & Spirituality 12\n",
      "Anime Features 11\n",
      "Korean TV Shows 10\n",
      "Stand-Up Comedy & Talk Shows 10\n",
      "Classic & Cult TV 7\n",
      "Stand-Up Comedy 3\n",
      "Cult Movies 2\n",
      "TV Shows 1\n",
      "Movies 1\n",
      "Classic Movies 1\n"
     ]
    }
   ],
   "source": [
    "data['country'] = data['country'].fillna('United States')\n",
    "\n",
    "date = data[(data['release_year'] >= 2017) & (data['release_year'] <= 2021)]\n",
    "unique_genres_usa = date['listed_in'].unique()\n",
    "all_genres_usa = {}\n",
    "for mix_genres_usa in unique_genres_usa:\n",
    "    genres_usa = mix_genres_usa.split(', ')\n",
    "    for genre in genres_usa:\n",
    "        all_genres_usa[genre] = all_genres_usa.get(genre, 0) + 1\n",
    "\n",
    "sorted_genres = sorted(all_genres_usa.items(), key = lambda x: x[1], reverse=True)\n",
    "for genre, count in sorted_genres:\n",
    "    print(genre, count)\n",
    "# print(all_genres_usa)"
   ],
   "metadata": {
    "collapsed": false,
    "ExecuteTime": {
     "end_time": "2023-05-18T15:36:29.804364149Z",
     "start_time": "2023-05-18T15:36:29.741545451Z"
    }
   }
  },
  {
   "cell_type": "markdown",
   "source": [
    "Ответ Dramas. Так как в отсортированном кортеже можем увидеть, что в топе TV Dramas и Dramas(59+57=116). International TV Shows b International Movies не рассматриваются, так как два разных напрвления(сериалы и фильмы)"
   ],
   "metadata": {
    "collapsed": false
   }
  },
  {
   "cell_type": "markdown",
   "id": "1778dd66",
   "metadata": {},
   "source": [
    "# Дополнительное задание *"
   ]
  },
  {
   "cell_type": "markdown",
   "id": "e4ec3996",
   "metadata": {},
   "source": [
    "Выведи топ 3 самых популярных актера в жанре Comedies"
   ]
  },
  {
   "cell_type": "code",
   "execution_count": 94,
   "outputs": [
    {
     "data": {
      "text/plain": "[('Anupam Kher', 21), ('Adam Sandler', 18), ('Paresh Rawal', 18)]"
     },
     "execution_count": 94,
     "metadata": {},
     "output_type": "execute_result"
    }
   ],
   "source": [
    "comedy = data[data['listed_in'].str.contains('Comedies')]\n",
    "unique_actors = comedy['cast'].unique()\n",
    "all_actors = {}\n",
    "for mix_actors in unique_actors:\n",
    "    if isinstance(mix_actors, str):\n",
    "        actors = mix_actors.split(', ')\n",
    "        for actor in actors:\n",
    "            all_actors[actor] = all_actors.get(actor, 0) + 1\n",
    "\n",
    "sorted_actors = sorted(all_actors.items(), key = lambda x: x[1], reverse=True)\n",
    "sorted_actors[:3]"
   ],
   "metadata": {
    "collapsed": false,
    "ExecuteTime": {
     "end_time": "2023-05-18T15:32:38.879842721Z",
     "start_time": "2023-05-18T15:32:38.778500059Z"
    }
   }
  },
  {
   "cell_type": "code",
   "execution_count": null,
   "outputs": [],
   "source": [],
   "metadata": {
    "collapsed": false
   }
  }
 ],
 "metadata": {
  "kernelspec": {
   "display_name": "Python 3 (ipykernel)",
   "language": "python",
   "name": "python3"
  },
  "language_info": {
   "codemirror_mode": {
    "name": "ipython",
    "version": 3
   },
   "file_extension": ".py",
   "mimetype": "text/x-python",
   "name": "python",
   "nbconvert_exporter": "python",
   "pygments_lexer": "ipython3",
   "version": "3.9.13"
  }
 },
 "nbformat": 4,
 "nbformat_minor": 5
}
