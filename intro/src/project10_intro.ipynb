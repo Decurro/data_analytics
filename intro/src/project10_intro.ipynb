{
 "cells": [
  {
   "cell_type": "markdown",
   "id": "bec5f469",
   "metadata": {},
   "source": [
    "Так выглядит интерактивная тетрадка Juputer Notebook / Google Colab. Здесь можно выполнять ячейки с кодом в любой последовательности.\n",
    "\n",
    "При нажатии кнопки Run (Запуск) на панели сверху (или слева от нужной ячейки, если ты работаешь в Google Colab), будет построчно выполняться весь код, который есть в этой ячейке."
   ]
  },
  {
   "cell_type": "code",
   "execution_count": null,
   "id": "dc748d71",
   "metadata": {},
   "outputs": [],
   "source": [
    "# Если нужно пропустить какие-то срочки и не выполнять, вместо удаления их можно закомментировать. \n",
    "# Для этого вставь в начале строки знак \"#\" (как здесь) и строка не будет выполняться.\n",
    "# Таким же образом можно вписывать текстовые комментарии к коду, чтобы оставлять для себя заметки."
   ]
  },
  {
   "cell_type": "code",
   "execution_count": 1,
   "id": "455d7ab2",
   "metadata": {
    "ExecuteTime": {
     "start_time": "2023-05-06T17:24:06.372890Z",
     "end_time": "2023-05-06T17:24:06.403992Z"
    }
   },
   "outputs": [
    {
     "data": {
      "text/plain": "2"
     },
     "execution_count": 1,
     "metadata": {},
     "output_type": "execute_result"
    }
   ],
   "source": [
    "# Нажми  Run (Запуск) на панели управления и выполни эту ячейку\n",
    "1 + 1 "
   ]
  },
  {
   "cell_type": "code",
   "execution_count": 2,
   "id": "32827386",
   "metadata": {
    "ExecuteTime": {
     "start_time": "2023-05-06T17:24:09.986129Z",
     "end_time": "2023-05-06T17:24:10.041353Z"
    }
   },
   "outputs": [],
   "source": [
    "# Создадим переменную х и присвоим ей результат сложения  \n",
    "x = 1 + 1"
   ]
  },
  {
   "cell_type": "code",
   "execution_count": 3,
   "id": "948ccd20",
   "metadata": {
    "ExecuteTime": {
     "start_time": "2023-05-06T17:24:10.569725Z",
     "end_time": "2023-05-06T17:24:10.602532Z"
    }
   },
   "outputs": [
    {
     "name": "stdout",
     "output_type": "stream",
     "text": [
      "2\n"
     ]
    }
   ],
   "source": [
    "# Выведем x\n",
    "print(x)"
   ]
  },
  {
   "cell_type": "markdown",
   "id": "e8a60283",
   "metadata": {},
   "source": [
    "# Python"
   ]
  },
  {
   "cell_type": "markdown",
   "id": "9e98efe2",
   "metadata": {},
   "source": [
    "##  Типы данных\n",
    "С типами данных мы уже сталкивались в проектах ранее, когда подбирали тип колонки в Yandex DataLens или фильтровали пустые строки в SQL. \n",
    "\n",
    "Python работает с двумя категориями данных – встроенными типами (они поддерживаются по умолчанию) и специализированными (для операций с ними нужно подключение определенной библиотеки). К специализированным типам данных относятся, например, datetime (дата и время).\n",
    "\n",
    "Все встроенные типы данных в Python можно разделить на следующие группы:"
   ]
  },
  {
   "cell_type": "markdown",
   "id": "462112fc",
   "metadata": {},
   "source": [
    "|                        |                                                         |                          |                                                        |\n",
    "| ---------------------- | ------------------------------------------------------- | ------------------------ | ------------------------------------------------------ |\n",
    "| **Тип данных**         | **Значение**                                            | **Определение в Python** | **Вариант использования**                              |\n",
    "| Целые числа            | -3, -2, -1, 0, 1, 2, 3                                  | int                      | a = int(input())                                       |\n",
    "| Вещественные числа     | -1.5, -1.1, 0.6, 1.7                                    | float                    | a = float(input())                                     |\n",
    "| Комплексные числа      | −5i, 3+2i                                               | complex                  | a = complex(input())                                   |\n",
    "| Булевы значения        | True, False                                             | True, False              | flag = True                                            |\n",
    "| NoneType               | None                                                    | None                     | a = None                                               |\n",
    "| Строка                 | 'abracadabra'                                           | str                      | a = str(5)                                             |\n",
    "| Список                 | \\[1, 2, 3], \\['a', 'b', 'c']                            | list                     | a = list(('a', 'b', 'c'))                              |\n",
    "| Кортеж                 | ('red', 'blue', 'green')                                | tuple                    | a = tuple(('red', 'blue', 'green'))                    |\n",
    "| Изменяемое множество   | {'black', 'blue', 'white'}, {1, 3, 9, 7}                | set                      | a = set(('black', 'blue', 'white'))                    |\n",
    "| Неизменяемое множество | {'red', 'blue', 'green'}, {2, 3, 9, 5}                  | frozenset                | a = frozenset((2, 5, 3, 9))                            |\n",
    "| Диапазон               | 0, 1, 2, 3, 4, 5                                        | range                    | a = range(6)                                           |\n",
    "| Словарь                | {'color': 'red', 'model': 'VC6', 'dimensions': '30x50'} | dict                     | a = dict(color='red', model='VC6', dimensions='30x50') |\n"
   ]
  },
  {
   "cell_type": "markdown",
   "id": "9cd2db9d",
   "metadata": {},
   "source": [
    "Python также умеет самостоятельно определять тип данных, исходя из того, что получает в переменную. Например:"
   ]
  },
  {
   "cell_type": "code",
   "execution_count": 5,
   "id": "7faab148",
   "metadata": {
    "ExecuteTime": {
     "start_time": "2023-05-06T17:25:27.057496Z",
     "end_time": "2023-05-06T17:25:27.105672Z"
    }
   },
   "outputs": [],
   "source": [
    "# Зададим x как целое число\n",
    "x = 1"
   ]
  },
  {
   "cell_type": "code",
   "execution_count": 6,
   "id": "adaddfeb",
   "metadata": {
    "ExecuteTime": {
     "start_time": "2023-05-06T17:25:30.035998Z",
     "end_time": "2023-05-06T17:25:30.049997Z"
    }
   },
   "outputs": [
    {
     "data": {
      "text/plain": "int"
     },
     "execution_count": 6,
     "metadata": {},
     "output_type": "execute_result"
    }
   ],
   "source": [
    "# Выведем тип переменной x\n",
    "type(x)"
   ]
  },
  {
   "cell_type": "code",
   "execution_count": 7,
   "id": "c595466e",
   "metadata": {
    "ExecuteTime": {
     "start_time": "2023-05-06T17:25:31.358510Z",
     "end_time": "2023-05-06T17:25:31.400662Z"
    }
   },
   "outputs": [],
   "source": [
    "# Зададим y как строку\n",
    "y = \"строка\""
   ]
  },
  {
   "cell_type": "code",
   "execution_count": 8,
   "id": "cfffbe01",
   "metadata": {
    "ExecuteTime": {
     "start_time": "2023-05-06T17:25:33.231351Z",
     "end_time": "2023-05-06T17:25:33.337561Z"
    }
   },
   "outputs": [
    {
     "data": {
      "text/plain": "str"
     },
     "execution_count": 8,
     "metadata": {},
     "output_type": "execute_result"
    }
   ],
   "source": [
    "# Выведем тип переменной y\n",
    "type(y)"
   ]
  },
  {
   "cell_type": "markdown",
   "id": "66b90ede",
   "metadata": {},
   "source": [
    "### Task"
   ]
  },
  {
   "cell_type": "markdown",
   "id": "7f349d41",
   "metadata": {},
   "source": [
    "Попробуй записать в переменную строку 'Hello world' и выведи ее с помощью команды print()"
   ]
  },
  {
   "cell_type": "code",
   "execution_count": 9,
   "id": "b7cd841c",
   "metadata": {
    "ExecuteTime": {
     "start_time": "2023-05-06T17:25:52.287751Z",
     "end_time": "2023-05-06T17:25:52.398879Z"
    }
   },
   "outputs": [
    {
     "name": "stdout",
     "output_type": "stream",
     "text": [
      "Hellow world!\n"
     ]
    }
   ],
   "source": [
    "# код\n",
    "x = \"Hellow world!\"\n",
    "print(x)"
   ]
  },
  {
   "cell_type": "markdown",
   "id": "99570bb4",
   "metadata": {},
   "source": [
    "## Математические операции\n",
    "Все операции в математике имеют определенный приоритет: сначала выполняется возведение в степень, затем деление по модулю и так далее. Этот приоритет соблюдается и в Python:"
   ]
  },
  {
   "cell_type": "markdown",
   "id": "df84b47f",
   "metadata": {},
   "source": [
    "|               |                     |                                                     |            |               |\n",
    "| ------------- | ------------------- | --------------------------------------------------- | ---------- | ------------- |\n",
    "| **Приоритет** | **Оператор Python** | **Операция**                                        | **Пример** | **Результат** |\n",
    "| 1             | **\\*\\***            | Возведение в степень                                | 5 \\*\\* 5   | 3125          |\n",
    "| 2             | **%**               | Деление по модулю (получение остатка)               | 16 % 7     | 2             |\n",
    "| 3             | **//**              | Целочисленное деление (дробная часть отбрасывается) | 13 // 3    | 4             |\n",
    "| 4             | **/**               | Деление                                             | 39 / 2     | 19.5          |\n",
    "| 5             | **\\***              | Умножение                                           | 123 \\* 321 | 39483         |\n",
    "| 6             | **-**               | Вычитание                                           | 999 – 135  | 864           |\n",
    "| 7             | **+**               | Сложение                                            | 478 + 32   | 510           |\n"
   ]
  },
  {
   "cell_type": "markdown",
   "id": "9734b833",
   "metadata": {},
   "source": [
    "### Task"
   ]
  },
  {
   "cell_type": "markdown",
   "id": "edf14a43",
   "metadata": {},
   "source": [
    "Возвести число 56 в степень 3 и выведи результат"
   ]
  },
  {
   "cell_type": "code",
   "execution_count": 10,
   "id": "a3c296a8",
   "metadata": {
    "ExecuteTime": {
     "start_time": "2023-05-06T17:26:46.940634Z",
     "end_time": "2023-05-06T17:26:47.009991Z"
    }
   },
   "outputs": [
    {
     "name": "stdout",
     "output_type": "stream",
     "text": [
      "175616\n"
     ]
    }
   ],
   "source": [
    "# код\n",
    "x = 56\n",
    "y = 3\n",
    "print(56**3)"
   ]
  },
  {
   "cell_type": "markdown",
   "id": "86cf42a3",
   "metadata": {},
   "source": [
    "### Task"
   ]
  },
  {
   "cell_type": "markdown",
   "id": "65c72c4c",
   "metadata": {},
   "source": [
    "С помощью репликации выведи строку, в которой 'Hello world!' повторяется 5 раз"
   ]
  },
  {
   "cell_type": "code",
   "execution_count": 13,
   "id": "e2b9b723",
   "metadata": {
    "ExecuteTime": {
     "start_time": "2023-05-06T17:32:21.261270Z",
     "end_time": "2023-05-06T17:32:21.275364Z"
    }
   },
   "outputs": [],
   "source": [
    "x = 'Hello world!'*5"
   ]
  },
  {
   "cell_type": "code",
   "execution_count": 14,
   "outputs": [
    {
     "name": "stdout",
     "output_type": "stream",
     "text": [
      "Hello world!Hello world!Hello world!Hello world!Hello world!\n"
     ]
    }
   ],
   "source": [
    "print(x)"
   ],
   "metadata": {
    "collapsed": false,
    "ExecuteTime": {
     "start_time": "2023-05-06T17:32:21.932008Z",
     "end_time": "2023-05-06T17:32:21.938618Z"
    }
   }
  },
  {
   "cell_type": "markdown",
   "id": "f1c99e3a",
   "metadata": {},
   "source": [
    "## Списки (list, [ ] )\n",
    "Списки в Python представляют собой упорядоченные изменяемые наборы объектов, пронумерованные от 0. При этом объекты могут быть разными — от целых чисел до строк. Списки могут также хранить в себе списки."
   ]
  },
  {
   "cell_type": "markdown",
   "id": "9e35a8bb",
   "metadata": {},
   "source": [
    "Чтобы использовать списки, их нужно создать. Создать список можно несколькими способами. Например, можно обработать любой итерируемый объект (например, строку) встроенной функцией list:"
   ]
  },
  {
   "cell_type": "code",
   "execution_count": null,
   "id": "41afcae0",
   "metadata": {},
   "outputs": [],
   "source": [
    "list('привет')"
   ]
  },
  {
   "cell_type": "markdown",
   "id": "a7f8e712",
   "metadata": {},
   "source": [
    "Или прописать значения самостоятельно. Как видно из примера ниже, список может содержать любое количество любых объектов (в том числе и вложенные списки), или не содержать ничего."
   ]
  },
  {
   "cell_type": "code",
   "execution_count": 15,
   "id": "8c86e4e1",
   "metadata": {
    "ExecuteTime": {
     "start_time": "2023-05-06T17:33:21.810657Z",
     "end_time": "2023-05-06T17:33:22.827243Z"
    }
   },
   "outputs": [],
   "source": [
    "s = []  # Пустой список\n",
    "l = ['п', 'р', ['ивет'], 2]"
   ]
  },
  {
   "cell_type": "code",
   "execution_count": 16,
   "id": "884c1664",
   "metadata": {
    "ExecuteTime": {
     "start_time": "2023-05-06T17:33:22.765402Z",
     "end_time": "2023-05-06T17:33:24.696103Z"
    }
   },
   "outputs": [
    {
     "name": "stdout",
     "output_type": "stream",
     "text": [
      "[]\n"
     ]
    }
   ],
   "source": [
    "print(s)"
   ]
  },
  {
   "cell_type": "code",
   "execution_count": 17,
   "id": "6a460c33",
   "metadata": {
    "ExecuteTime": {
     "start_time": "2023-05-06T17:33:27.650082Z",
     "end_time": "2023-05-06T17:33:27.690021Z"
    }
   },
   "outputs": [
    {
     "name": "stdout",
     "output_type": "stream",
     "text": [
      "['п', 'р', ['ивет'], 2]\n"
     ]
    }
   ],
   "source": [
    "print(l)"
   ]
  },
  {
   "cell_type": "markdown",
   "id": "68b29533",
   "metadata": {},
   "source": [
    "### Методы списков\n",
    "| Метод                                | Что делает                                                                                          |\n",
    "| ------------------------------------ | --------------------------------------------------------------------------------------------------- |\n",
    "| **list.append**(x)                   | Добавляет элемент в конец списка                                                                    |\n",
    "| **list.extend**(L)                   | Расширяет список list, добавляя в конец все элементы списка L                                       |\n",
    "| **list.insert**(i, x)                | Вставляет на i-ый элемент значение x                                                                |\n",
    "| **list.remove**(x)                   | Удаляет первый элемент в списке, имеющий значение x. ValueError, если такого элемента не существует |\n",
    "| **list.pop**(\\[i])                   | Удаляет i-ый элемент и возвращает его. Если индекс не указан, удаляется последний элемент           |\n",
    "| **list.index**(x, \\[start \\[, end]]) | Возвращает положение первого элемента со значением x (при этом поиск ведется от start до end)       |\n",
    "| **list.count**(x)                    | Возвращает количество элементов со значением x                                                      |\n",
    "| **list.sort**(\\[key=функция])        | Сортирует список на основе функции                                                                  |\n",
    "| **list.reverse**()                   | Разворачивает список                                                                                |\n",
    "| **list.copy**()                      | Поверхностная копия списка                                                                          |\n",
    "| **list.clear**()                     | Очищает список                                                                                      |\n"
   ]
  },
  {
   "cell_type": "markdown",
   "id": "8b7b4900",
   "metadata": {},
   "source": [
    "### Task"
   ]
  },
  {
   "cell_type": "markdown",
   "id": "87334117",
   "metadata": {},
   "source": [
    "Преобразуй список ниже, используя методы из таблицы"
   ]
  },
  {
   "cell_type": "code",
   "execution_count": 18,
   "id": "12744931",
   "metadata": {
    "ExecuteTime": {
     "start_time": "2023-05-06T17:34:30.630300Z",
     "end_time": "2023-05-06T17:34:30.700506Z"
    }
   },
   "outputs": [],
   "source": [
    "# Дан список\n",
    "a = [66.25, 333, 333, 1, 1234.5]"
   ]
  },
  {
   "cell_type": "code",
   "execution_count": 19,
   "id": "29500f3f",
   "metadata": {
    "scrolled": true,
    "ExecuteTime": {
     "start_time": "2023-05-06T17:34:55.205696Z",
     "end_time": "2023-05-06T17:34:55.266812Z"
    }
   },
   "outputs": [
    {
     "name": "stdout",
     "output_type": "stream",
     "text": [
      "[66.25, 'a', 333, 333, 1, 1234.5]\n"
     ]
    }
   ],
   "source": [
    "# 1. Вставь букву 'a' на место 2-го элемента\n",
    "a.insert(1,'a')\n",
    "print(a)"
   ]
  },
  {
   "cell_type": "code",
   "execution_count": 20,
   "id": "51f980b6",
   "metadata": {
    "ExecuteTime": {
     "start_time": "2023-05-06T17:35:35.616994Z",
     "end_time": "2023-05-06T17:35:35.668832Z"
    }
   },
   "outputs": [
    {
     "name": "stdout",
     "output_type": "stream",
     "text": [
      "[66.25, 'a', 333, 333, 1, 1234.5, 333]\n"
     ]
    }
   ],
   "source": [
    "# 2. Запиши в конец списка число 333\n",
    "a.append(333)\n",
    "print(a)"
   ]
  },
  {
   "cell_type": "code",
   "execution_count": 21,
   "id": "47843cc1",
   "metadata": {
    "ExecuteTime": {
     "start_time": "2023-05-06T17:36:03.084876Z",
     "end_time": "2023-05-06T17:36:03.134991Z"
    }
   },
   "outputs": [
    {
     "name": "stdout",
     "output_type": "stream",
     "text": [
      "[66.25, 333, 333, 1, 1234.5, 333]\n"
     ]
    }
   ],
   "source": [
    "# 3. Убери из списка букву 'a'\n",
    "a.remove('a')\n",
    "print(a)"
   ]
  },
  {
   "cell_type": "code",
   "execution_count": 22,
   "id": "779da9e5",
   "metadata": {
    "ExecuteTime": {
     "start_time": "2023-05-06T17:37:16.357044Z",
     "end_time": "2023-05-06T17:37:16.433327Z"
    }
   },
   "outputs": [
    {
     "name": "stdout",
     "output_type": "stream",
     "text": [
      "[1, 66.25, 333, 333, 333, 1234.5]\n"
     ]
    }
   ],
   "source": [
    "# 4. Отсортируй список и выведи его\n",
    "a.sort()\n",
    "print(a)"
   ]
  },
  {
   "cell_type": "code",
   "execution_count": 24,
   "id": "0b1efe18",
   "metadata": {
    "ExecuteTime": {
     "start_time": "2023-05-06T17:39:05.167787Z",
     "end_time": "2023-05-06T17:39:05.218658Z"
    }
   },
   "outputs": [
    {
     "name": "stdout",
     "output_type": "stream",
     "text": [
      "[1234.5, 333, 333, 333, 66.25, 1]\n"
     ]
    }
   ],
   "source": [
    "# 5. Отсортируй список по убыванию и выведи его\n",
    "a.sort(reverse=True)\n",
    "print(a)"
   ]
  },
  {
   "cell_type": "code",
   "execution_count": 25,
   "id": "76caa059",
   "metadata": {
    "ExecuteTime": {
     "start_time": "2023-05-06T17:39:11.321910Z",
     "end_time": "2023-05-06T17:39:11.383287Z"
    }
   },
   "outputs": [
    {
     "data": {
      "text/plain": "6"
     },
     "execution_count": 25,
     "metadata": {},
     "output_type": "execute_result"
    }
   ],
   "source": [
    "# 6. Выведи длину списка\n",
    "len(a)"
   ]
  },
  {
   "cell_type": "markdown",
   "id": "379da43b",
   "metadata": {},
   "source": [
    "## Словари (dict, { })\n",
    "Словари в Python - неупорядоченные коллекции произвольных объектов с доступом по ключу. Их иногда ещё называют ассоциативными массивами или хеш-таблицами."
   ]
  },
  {
   "cell_type": "markdown",
   "id": "cf35efdb",
   "metadata": {},
   "source": [
    "Чтобы создать словарь, можно, например: вручную перечислить пары ключ/значение: "
   ]
  },
  {
   "cell_type": "code",
   "execution_count": null,
   "id": "73d2d652",
   "metadata": {},
   "outputs": [],
   "source": [
    "d = {'dict': 1, 'dictionary': 2}"
   ]
  },
  {
   "cell_type": "markdown",
   "id": "20058733",
   "metadata": {},
   "source": [
    "Чтобы получить значение из словаря, можно обратиться к нему по ключу:"
   ]
  },
  {
   "cell_type": "code",
   "execution_count": null,
   "id": "dd9c4a45",
   "metadata": {},
   "outputs": [],
   "source": [
    "d['dict']"
   ]
  },
  {
   "cell_type": "markdown",
   "id": "39798b0d",
   "metadata": {},
   "source": [
    "Присвоение по новому ключу расширяет словарь, присвоение по существующему ключу перезаписывает его, а попытка извлечения несуществующего ключа порождает исключение"
   ]
  },
  {
   "cell_type": "code",
   "execution_count": null,
   "id": "93b3403d",
   "metadata": {},
   "outputs": [],
   "source": [
    "d['1']"
   ]
  },
  {
   "cell_type": "markdown",
   "id": "604759fa",
   "metadata": {},
   "source": [
    "### Методы словарей\n",
    "| Метод                                | Что делает                                                                                          |\n",
    "| ------------------------------------ | --------------------------------------------------------------------------------------------------- |\n",
    "| **dict.clear()**                  | очищает словарь |\n",
    "| **dict.copy()**                   | возвращает копию словаря                                       |\n",
    "| **classmethod dict.fromkeys(seq[, value])**                | создает словарь с ключами из seq и значением value (по умолчанию None)                                                                |\n",
    "| **dict.get(key[, default])**                   | возвращает значение ключа, но если его нет, не бросает исключение, а возвращает default (по умолчанию None) |\n",
    "| **dict.items()**                   | возвращает пары (ключ, значение)           |    |\n",
    "| **dict.keys()**                    | возвращает ключи в словаре |\n",
    "| **dict.pop(key[, default])**     | удаляет ключ и возвращает значение. Если ключа нет, возвращает default (по умолчанию бросает исключение)|\n",
    "| **dict.popitem()**                   | удаляет и возвращает пару (ключ, значение). Если словарь пуст, бросает исключение KeyError. Помните, что словари неупорядочены |\n",
    "| **dict.setdefault(key[, default]** | возвращает значение ключа, но если его нет, не бросает исключение, а создает ключ со значением default (по умолчанию None)|\n",
    "| **dict.update([other])**                    | обновляет словарь, добавляя пары (ключ, значение) из other. Существующие ключи перезаписываются. Возвращает None (не новый словарь!)|\n",
    "| **dict.values()**                    | возвращает значения в словаре |"
   ]
  },
  {
   "cell_type": "markdown",
   "id": "6bf5b7f9",
   "metadata": {},
   "source": [
    "### Task"
   ]
  },
  {
   "cell_type": "code",
   "execution_count": 26,
   "id": "ed59a19f",
   "metadata": {
    "ExecuteTime": {
     "start_time": "2023-05-06T17:46:09.589106Z",
     "end_time": "2023-05-06T17:46:09.651208Z"
    }
   },
   "outputs": [],
   "source": [
    "# 1. Создай словарь, в котором будет в качестве ключей имена твоих коллег из команды, а в качестве значений - их город проживания.\n",
    "d = {\"Миша\": \"Казань\", \"Иван\": \"Саратов\", \"Андрей\":\"Питер\"}"
   ]
  },
  {
   "cell_type": "code",
   "execution_count": 27,
   "id": "85ab8681",
   "metadata": {
    "ExecuteTime": {
     "start_time": "2023-05-06T17:49:47.051334Z",
     "end_time": "2023-05-06T17:49:47.112830Z"
    }
   },
   "outputs": [],
   "source": [
    "# 2. Добавь в словарь пару {'Светлана : Мурманск'}\n",
    "d.update({'Светлана':'Мурманск'})"
   ]
  },
  {
   "cell_type": "code",
   "execution_count": 30,
   "id": "04f7a684",
   "metadata": {
    "ExecuteTime": {
     "start_time": "2023-05-06T17:50:13.571923Z",
     "end_time": "2023-05-06T17:50:13.614890Z"
    }
   },
   "outputs": [
    {
     "data": {
      "text/plain": "dict_keys(['Миша', 'Иван', 'Андрей', 'Светлана'])"
     },
     "execution_count": 30,
     "metadata": {},
     "output_type": "execute_result"
    }
   ],
   "source": [
    "# 3. Выведи ключи\n",
    "d.keys()"
   ]
  },
  {
   "cell_type": "markdown",
   "id": "11c2d7c7",
   "metadata": {},
   "source": [
    "Методы словарей и списков можно применять последовательно. Например, если необходимо вывести длину списка со значениями словаря, который возвращает нам метод dict.values(), можно использовать метод списков len() \"поверх\" метода dict.values():"
   ]
  },
  {
   "cell_type": "code",
   "execution_count": null,
   "id": "b8498080",
   "metadata": {},
   "outputs": [],
   "source": [
    "len(d.values())"
   ]
  }
 ],
 "metadata": {
  "kernelspec": {
   "display_name": "Python 3 (ipykernel)",
   "language": "python",
   "name": "python3"
  },
  "language_info": {
   "codemirror_mode": {
    "name": "ipython",
    "version": 3
   },
   "file_extension": ".py",
   "mimetype": "text/x-python",
   "name": "python",
   "nbconvert_exporter": "python",
   "pygments_lexer": "ipython3",
   "version": "3.9.13"
  }
 },
 "nbformat": 4,
 "nbformat_minor": 5
}
