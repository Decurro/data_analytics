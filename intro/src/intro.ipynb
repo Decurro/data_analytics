{
 "cells": [
  {
   "cell_type": "markdown",
   "id": "5dccfac5",
   "metadata": {},
   "source": [
    "# Task 1"
   ]
  },
  {
   "cell_type": "markdown",
   "id": "e77b6174",
   "metadata": {},
   "source": [
    "Напишите программу, которая запрашивает у пользователя два слова и выводит на экран сообщение вида \"Слово [слово1] состоит из [количество букв в слове1] букв, а слово [слово2] состоит из [количество букв в слове2] букв.\" "
   ]
  },
  {
   "cell_type": "code",
   "execution_count": 79,
   "id": "b574050c",
   "metadata": {
    "ExecuteTime": {
     "start_time": "2023-05-06T19:32:59.948198Z",
     "end_time": "2023-05-06T19:33:10.823433Z"
    }
   },
   "outputs": [
    {
     "name": "stdout",
     "output_type": "stream",
     "text": [
      "Слово celestac состоит из 8 букв, а слово bennario состоит из 8 букв.\n"
     ]
    }
   ],
   "source": [
    "# место для решения\n",
    "\n",
    "def task_1():\n",
    "    word_1=input(\"Ведите первое слово\")\n",
    "    word_2=input(\"Ведите второе слово\")\n",
    "\n",
    "    print(\"Слово {word_1} состоит из {word_1_len} букв, а слово {word_2} состоит из {word_2_len} букв.\".format(word_1=word_1, word_1_len=len(word_1), word_2=word_2, word_2_len=len(word_2)))\n",
    "\n",
    "task_1()\n"
   ]
  },
  {
   "cell_type": "markdown",
   "id": "404b629e",
   "metadata": {},
   "source": [
    "# Task 2"
   ]
  },
  {
   "cell_type": "markdown",
   "id": "425361a6",
   "metadata": {},
   "source": [
    "Напишите функцию \"average_grade\", которая принимает на вход список оценок \"grades\" и возвращает среднюю оценку"
   ]
  },
  {
   "cell_type": "code",
   "execution_count": 6,
   "id": "6392671e",
   "metadata": {
    "ExecuteTime": {
     "start_time": "2023-05-06T18:04:40.687143Z",
     "end_time": "2023-05-06T18:04:40.761499Z"
    }
   },
   "outputs": [],
   "source": [
    "input_grades = [3, 3, 5, 3, 5, 5, 4, 3, 2, 5]"
   ]
  },
  {
   "cell_type": "code",
   "execution_count": 9,
   "id": "3fa7c99e",
   "metadata": {
    "ExecuteTime": {
     "start_time": "2023-05-06T18:06:22.354214Z",
     "end_time": "2023-05-06T18:06:22.428654Z"
    }
   },
   "outputs": [],
   "source": [
    "def average_grade(grades):\n",
    " # место для решения\n",
    " return sum(grades)/len(grades)"
   ]
  },
  {
   "cell_type": "code",
   "execution_count": 10,
   "id": "088be229",
   "metadata": {
    "ExecuteTime": {
     "start_time": "2023-05-06T18:06:23.182000Z",
     "end_time": "2023-05-06T18:06:23.196676Z"
    }
   },
   "outputs": [
    {
     "data": {
      "text/plain": "3.8"
     },
     "execution_count": 10,
     "metadata": {},
     "output_type": "execute_result"
    }
   ],
   "source": [
    "average_grade(input_grades)"
   ]
  },
  {
   "cell_type": "markdown",
   "id": "00f51570",
   "metadata": {},
   "source": [
    "# Task 3"
   ]
  },
  {
   "cell_type": "markdown",
   "id": "d428b693",
   "metadata": {},
   "source": [
    "Клиент банка выбирает вклад. Напишите программу, которая будет вычислять, сколько денег будет на вкладе через N лет, если известна начальная сумма вклада и годовая процентная ставка. Проценты, начисленные за год, прибавляются к сумме вклада и учитываются при следующем начислении. "
   ]
  },
  {
   "cell_type": "code",
   "execution_count": 15,
   "id": "114e391a",
   "metadata": {
    "scrolled": true,
    "ExecuteTime": {
     "start_time": "2023-05-06T18:20:25.096649Z",
     "end_time": "2023-05-06T18:20:25.172166Z"
    }
   },
   "outputs": [],
   "source": [
    "# место для решения\n",
    "def task_3():\n",
    "    start=float(input(\"Введите сумму вклада\"))\n",
    "    bank_rate=float(input(\"Введите процентную ставку\"))\n",
    "    years=int(input(\"Введите количество лет, на который открывается вклад\"))\n",
    "\n",
    "    for year in range(years):\n",
    "        start*=(1+bank_rate/100)\n",
    "\n",
    "    print(round(start, 2))\n"
   ]
  },
  {
   "cell_type": "code",
   "execution_count": 16,
   "outputs": [
    {
     "name": "stdout",
     "output_type": "stream",
     "text": [
      "259.37\n"
     ]
    }
   ],
   "source": [
    "task_3()"
   ],
   "metadata": {
    "collapsed": false,
    "ExecuteTime": {
     "start_time": "2023-05-06T18:20:25.533064Z",
     "end_time": "2023-05-06T18:20:32.620052Z"
    }
   }
  },
  {
   "cell_type": "markdown",
   "id": "26cb4a51",
   "metadata": {},
   "source": [
    "# Task 4"
   ]
  },
  {
   "cell_type": "markdown",
   "id": "b50754e6",
   "metadata": {},
   "source": [
    "Мы собираемся арендовать склад и хранить в нем антиквариат для магазинчика. Вещей очень много, и они не помещаются. Напишите функцию, которая принимает на вход площадь склада и словарь с мебелью, и выводит, какие вещи в него смогут поместиться. Считаем только площать по полу, потому что ставить их друг на друга нельзя."
   ]
  },
  {
   "cell_type": "code",
   "execution_count": 19,
   "id": "eed8ab39",
   "metadata": {
    "ExecuteTime": {
     "start_time": "2023-05-06T18:50:58.396360Z",
     "end_time": "2023-05-06T18:50:58.420190Z"
    }
   },
   "outputs": [],
   "source": [
    "furniture = {\"кровать\": 10, \"шкаф\": 5, \"комод\": 3, \"стол\": 7, \"стул\": 1, \n",
    "             \"диван\": 15, \"кресло\": 5, \"тумбочка\": 2, \"полка\": 2, \"шезлонг\": 6, \n",
    "             \"стеллаж\": 8, \"кухонный гарнитур\": 12, \"обеденный стол\": 10, \"барная стойка\": 4, \"книжный шкаф\": 10}"
   ]
  },
  {
   "cell_type": "code",
   "execution_count": 42,
   "id": "2da8d309",
   "metadata": {
    "ExecuteTime": {
     "start_time": "2023-05-06T18:56:11.497194Z",
     "end_time": "2023-05-06T18:56:11.554699Z"
    }
   },
   "outputs": [],
   "source": [
    "def furniturefit(roomarea, furniture):\n",
    "\n",
    "    fittingfurniture = []\n",
    "    area_fitted = 0\n",
    "    for furnik, area_furnik in furniture.items():\n",
    "        if (area_fitted + area_furnik) <= roomarea :\n",
    "            fittingfurniture+=[furnik]\n",
    "            area_fitted+=area_furnik\n",
    "\n",
    "\n",
    "    return fittingfurniture"
   ]
  },
  {
   "cell_type": "code",
   "execution_count": 57,
   "id": "708dc0bd",
   "metadata": {
    "ExecuteTime": {
     "start_time": "2023-05-06T18:58:48.761323Z",
     "end_time": "2023-05-06T18:58:48.791058Z"
    }
   },
   "outputs": [
    {
     "name": "stdout",
     "output_type": "stream",
     "text": [
      "Мебель, которая поместится в комнате: ['кровать']\n"
     ]
    }
   ],
   "source": [
    "roomarea = 10\n",
    "fittingfurniture = furniturefit(roomarea, furniture)\n",
    "print(\"Мебель, которая поместится в комнате:\", fittingfurniture)"
   ]
  },
  {
   "cell_type": "markdown",
   "id": "b5a654e9",
   "metadata": {},
   "source": [
    "# Дополнительное задание *"
   ]
  },
  {
   "cell_type": "markdown",
   "id": "72f1c016",
   "metadata": {},
   "source": [
    "Для подключения городской библиотеки к электронному учету необходимо подсчитать, сколько категорий жанров нужно для нее завести в рубрикаторе. В библиотеке нет базы данных, поэтому удалось только вручную собрать информацию текстовый в файл. В файле записи о книгах содержатся в виде: категория -> автор -> название -> год выпуска.\n",
    "Необходимо считать этот файл и написать программу, которая подсчитает количество уникальных значений категории."
   ]
  },
  {
   "cell_type": "markdown",
   "id": "4908609c",
   "metadata": {},
   "source": [
    "Напишите 3 функции: \n",
    "\n",
    "    - чтение файла\n",
    "    - выделение из каждой строки названия жанра\n",
    "    - подсчет уникальных значений жанра"
   ]
  },
  {
   "cell_type": "code",
   "execution_count": 75,
   "id": "a4728bad",
   "metadata": {
    "ExecuteTime": {
     "start_time": "2023-05-06T19:20:36.623074Z",
     "end_time": "2023-05-06T19:20:36.715244Z"
    }
   },
   "outputs": [],
   "source": [
    "def read_file(filename):\n",
    "    list_of_books = []\n",
    "    with open(filename, \"r\") as file:\n",
    "        lines = file.readlines()\n",
    "        for line in lines:\n",
    "            list_of_books+=[line.split(\"|\")]\n",
    "    return list_of_books"
   ]
  },
  {
   "cell_type": "code",
   "execution_count": 76,
   "id": "09ddf2fb",
   "metadata": {
    "ExecuteTime": {
     "start_time": "2023-05-06T19:20:37.006251Z",
     "end_time": "2023-05-06T19:20:37.020988Z"
    }
   },
   "outputs": [],
   "source": [
    "def extract_genres(book):\n",
    "    genres = []\n",
    "    for bok in book:\n",
    "        genres+=[bok[0].replace(\"Жанр: \",\"\")]\n",
    "    return genres"
   ]
  },
  {
   "cell_type": "code",
   "execution_count": 77,
   "id": "f67a59e1",
   "metadata": {
    "ExecuteTime": {
     "start_time": "2023-05-06T19:20:37.395511Z",
     "end_time": "2023-05-06T19:20:37.410499Z"
    }
   },
   "outputs": [],
   "source": [
    "def remove_duplicates(genres):\n",
    "    unique_genres = list(set(genres))\n",
    "    return unique_genres"
   ]
  },
  {
   "cell_type": "markdown",
   "id": "1a50cbf3",
   "metadata": {},
   "source": [
    "Ниже примерный порядок, в котором нужно произвести обработку файла:"
   ]
  },
  {
   "cell_type": "code",
   "execution_count": 78,
   "id": "097ee573",
   "metadata": {
    "ExecuteTime": {
     "start_time": "2023-05-06T19:20:59.280080Z",
     "end_time": "2023-05-06T19:20:59.353530Z"
    }
   },
   "outputs": [
    {
     "name": "stdout",
     "output_type": "stream",
     "text": [
      "В рубрикаторе необходимо завести 178 категорий \n"
     ]
    }
   ],
   "source": [
    "filename = '../datasets/bibliography.txt'\n",
    "books_list = read_file(filename)\n",
    "genres = extract_genres(books_list)\n",
    "unique_genres = remove_duplicates(genres)\n",
    "print('В рубрикаторе необходимо завести %s категорий ' %len(unique_genres))"
   ]
  }
 ],
 "metadata": {
  "kernelspec": {
   "display_name": "Python 3 (ipykernel)",
   "language": "python",
   "name": "python3"
  },
  "language_info": {
   "codemirror_mode": {
    "name": "ipython",
    "version": 3
   },
   "file_extension": ".py",
   "mimetype": "text/x-python",
   "name": "python",
   "nbconvert_exporter": "python",
   "pygments_lexer": "ipython3",
   "version": "3.9.13"
  }
 },
 "nbformat": 4,
 "nbformat_minor": 5
}
